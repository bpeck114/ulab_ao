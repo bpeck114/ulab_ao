{
 "cells": [
  {
   "cell_type": "markdown",
   "id": "ddc64197-a1c9-4c9e-ab91-95eac417d67d",
   "metadata": {},
   "source": [
    "# PSF Plotting Guide\n",
    "Use this notebook as a guide for plotting some PSFs performance as a function of radius (in arcseconds). This is the function you want.\n",
    "\n",
    "```\n",
    "def get_psf_metrics_over_field(directory='./', oversamp=3, seed=10):\n",
    "    \"\"\"\n",
    "    Print some PSF metrics vs. wavelength and field position for PSFs\n",
    "    computed by MAOS. Closed-loop.\n",
    "\n",
    "    Inputs:\n",
    "    ------------\n",
    "    directory        : string, default is current directory\n",
    "        Directory where MAOS simulation results live\n",
    "\n",
    "    oversamp         : int, default=3\n",
    "\n",
    "    seed             : int, default=10\n",
    "        Simulation seed (seed value for which MAOS simulation was run)\n",
    "\n",
    "    Outputs:\n",
    "    ------------\n",
    "    wavelengths      : array, dtype=float\n",
    "        Array of wavelengths for which MAOS simulation was run and for\n",
    "        which output metrics were calculated\n",
    "\n",
    "    strehl_values    : array, dtype=float\n",
    "        Array of Strehl values for each wavelength\n",
    "\n",
    "    fwhm_gaus_values : array, dtype=float\n",
    "        Array of FWHM values for Gaussians fit to each MAOS PSF at\n",
    "        each wavelength\n",
    "\n",
    "    fwhm_emp_values  : array, dtype=float\n",
    "        Array of empirical FWHM values for each MAOS PSF. Empirical\n",
    "        FWHM is calculated by locating the pixel with the largest flux,\n",
    "        dividing that flux by 2, finding the nearest pixel with this halved \n",
    "        flux value, and computing the distance between them. This quantity\n",
    "        is then converted to micro-arcsec (mas) using the MAOS pixel scale\n",
    "        (arcsec/px) from the MAOS PSF header\n",
    "\n",
    "    r_ee80_values    : array, dtype=float\n",
    "        Array of radii for each MAOS PSF. At each wavelength, a radius\n",
    "        is computed on the MAOS PSF, within which 80% of the total\n",
    "        image flux is contained.\n",
    "    \"\"\"\n",
    "    #print(\"Looking in %s for simulation results...\" % directory)  \n",
    "    fits_files = glob.glob(directory + f'evlpsfcl_{seed}_x*_y*.fits')\n",
    "    psf_all_wvls = fits.open(fits_files[0])\n",
    "    nwvl = len(psf_all_wvls)\n",
    "    npos = len(fits_files)\n",
    "\n",
    "    psf_all_wvls.close()\n",
    "\n",
    "    xpos = np.zeros((npos, nwvl), dtype=int)\n",
    "    ypos = np.zeros((npos, nwvl), dtype=int)\n",
    "    wavelengths = np.zeros((npos, nwvl), dtype=float)\n",
    "    strehl_values = np.zeros((npos, nwvl), dtype=float)\n",
    "    fwhm_gaus_values = np.zeros((npos, nwvl), dtype=float)\n",
    "    fwhm_emp_values = np.zeros((npos, nwvl), dtype=float)\n",
    "    r_ee50_values = np.zeros((npos, nwvl), dtype=float)\n",
    "    r_ee80_values = np.zeros((npos, nwvl), dtype=float)\n",
    " \n",
    "    for xx in range(npos):\n",
    "        psf_all_wvls = fits.open(fits_files[xx])\n",
    "\n",
    "        file_name = fits_files[xx].split('/')[-1]\n",
    "        file_root = file_name.split('.')[0]\n",
    "        tmp = file_root.split('_')\n",
    "        tmpx = int(tmp[2][1:])\n",
    "        tmpy = int(tmp[3][1:])\n",
    "        #print('xx = ', tmpx, 'yy = ', tmpy)\n",
    "\n",
    "        for pp in range(nwvl):\n",
    "            xpos[xx, pp] = tmpx\n",
    "            ypos[xx, pp] = tmpy\n",
    "            \n",
    "            psf = psf_all_wvls[pp].data\n",
    "            hdr = psf_all_wvls[pp].header\n",
    "            mets = metrics.calc_psf_metrics_single(psf, hdr['DP'], \n",
    "                                                   oversamp=oversamp)\n",
    "            wavelengths[xx, pp] = hdr[\"WVL\"] * 1.0e6\n",
    "            strehl_values[xx, pp] = mets[\"strehl\"]\n",
    "            fwhm_gaus_values[xx, pp] = mets[\"emp_fwhm\"] * 1.0e3\n",
    "            fwhm_emp_values[xx, pp] = mets[\"fwhm\"] * 1.0e3\n",
    "            r_ee50_values[xx, pp] = mets[\"ee50\"] * 1.0e3\n",
    "            r_ee80_values[xx, pp] = mets[\"ee80\"] * 1.0e3\n",
    "\n",
    "\n",
    "        psf_all_wvls.close()\n",
    "        \n",
    "    return xpos, ypos, wavelengths, strehl_values, fwhm_gaus_values, fwhm_emp_values, r_ee50_values, r_ee80_values\n",
    "```\n",
    "\n",
    "## You should understand what the function is doing"
   ]
  },
  {
   "cell_type": "code",
   "execution_count": 23,
   "id": "dada3231-6bcc-4e4f-9e4b-48519391396e",
   "metadata": {},
   "outputs": [],
   "source": [
    "# IMPORT NECESSARY PACKAGES\n",
    "from paarti.utils import maos_utils\n",
    "import matplotlib.pyplot as plt\n",
    "import numpy as np"
   ]
  },
  {
   "cell_type": "code",
   "execution_count": 50,
   "id": "cf5adb3c-cf90-40b7-ae67-704dac8b4614",
   "metadata": {},
   "outputs": [],
   "source": [
    "# CONSTANTS\n",
    "seed = 1 # default\n",
    "wavelength_index = 0 # 432 nm\n",
    "psfs_directory = 'psfs_over_field/' # directory that contains all of out PSF files"
   ]
  },
  {
   "cell_type": "code",
   "execution_count": 41,
   "id": "89d63bee-6fa6-4ba8-903c-679cf5d32fe0",
   "metadata": {},
   "outputs": [],
   "source": [
    "# Calling the maos_utils function \n",
    "metrics = maos_utils.get_psf_metrics_over_field(directory=psfs_directory, seed=seed)"
   ]
  },
  {
   "cell_type": "code",
   "execution_count": 51,
   "id": "103cbe98-7d27-45c2-9484-6ed5a7fa744a",
   "metadata": {},
   "outputs": [],
   "source": [
    "x, y, w, strehl, fwhm_g, fwhm_e, r_ee50, r_ee80 = np.array(metrics) # Getting all of the metrics out out our variable \n",
    "# and converting it to a numpy array\n",
    "\n",
    "# x, x-coordinate in field-of-view\n",
    "# y, y-coordinate in field-of-view\n",
    "# strehl\n",
    "# FWHM (gaussian)\n",
    "# FWHM (empirical)\n",
    "# 50% Encircled Energy\n",
    "# 80% Encircled Energy"
   ]
  },
  {
   "cell_type": "markdown",
   "id": "214bd2a6-bf20-451d-b828-436d91d56475",
   "metadata": {},
   "source": [
    "\n",
    "The cell below contains a multi-dimensional array. Each **row** represents ONE PSF, each column depicts a different wavelength. Those wavelengths are:\n",
    "- 432 nm\n",
    "- 544e nm\n",
    "- 652 nm\n",
    "- 810 nm\n",
    "- 877 nm\n",
    "- 1020 nm\n",
    "- 1248 nm\n",
    "- 1673 nm\n",
    "- 2200 nm\n",
    "\n",
    "So x, contains the x-coordinate on sky in arcseconds. Where 0 is the origin of our field-of-view. I will plot ONE wavelength, you should plot ALL the wavelengths."
   ]
  },
  {
   "cell_type": "code",
   "execution_count": 52,
   "id": "12145747-e692-4eff-a661-2a37af8a198e",
   "metadata": {},
   "outputs": [
    {
     "name": "stdout",
     "output_type": "stream",
     "text": [
      "[[ 0.  0.  0.  0.  0.  0.  0.  0.  0.]\n",
      " [10. 10. 10. 10. 10. 10. 10. 10. 10.]\n",
      " [15. 15. 15. 15. 15. 15. 15. 15. 15.]\n",
      " [20. 20. 20. 20. 20. 20. 20. 20. 20.]\n",
      " [25. 25. 25. 25. 25. 25. 25. 25. 25.]\n",
      " [30. 30. 30. 30. 30. 30. 30. 30. 30.]\n",
      " [35. 35. 35. 35. 35. 35. 35. 35. 35.]\n",
      " [45. 45. 45. 45. 45. 45. 45. 45. 45.]\n",
      " [ 5.  5.  5.  5.  5.  5.  5.  5.  5.]\n",
      " [60. 60. 60. 60. 60. 60. 60. 60. 60.]]\n",
      "[[ 14.67052191  15.58114825  16.97312284  19.14741678  19.59749011\n",
      "   21.96386868  25.81912075  33.1381577   42.9115083 ]\n",
      " [ 16.58710293  16.77721647  18.67449524  20.14016079  20.50948355\n",
      "   22.520004    26.17526338  33.1381577   42.9115083 ]\n",
      " [ 16.4527922   16.98563708  18.40186023  19.9455653   20.50948355\n",
      "   22.79298371  25.81912075  32.63220192  42.9115083 ]\n",
      " [ 16.24924466  17.39498827  17.84409806  19.9455653   20.28532946\n",
      "   22.520004    25.45799638  33.1381577   42.9115083 ]\n",
      " [ 96.4774197   30.93565862  19.07614323  20.71298098  21.16770862\n",
      "   23.06273255  26.17526338  34.12757366  44.87792959]\n",
      " [145.45211673 110.17535589  80.80822797  43.8944628   36.2875005\n",
      "   26.55302246  27.88783777  35.08910189  45.51452776]\n",
      " [174.52728486 154.4506575  132.71674378 116.30163178  79.77750109\n",
      "   53.91510633  48.11109093  36.93714454  44.87792959]\n",
      " [183.21659536 220.11106983 223.63111324 188.82820827 191.56245256\n",
      "  179.60992373 147.12871903 109.29961062  55.22512728]\n",
      " [ 15.97381378  16.5661739   17.70191175  19.74905248  19.82942114\n",
      "   21.96386868  25.81912075  33.1381577   42.9115083 ]\n",
      " [183.21659536 230.7096033  275.66145409 292.27263238 288.83156019\n",
      "  238.84776636 178.51743306 150.97904579 166.88660179]]\n"
     ]
    }
   ],
   "source": [
    "# Notice how it goes, 0 then 10 and puts 5 way later? We are gonna fix that below\n",
    "print(x)\n",
    "print(fwhm_g)"
   ]
  },
  {
   "cell_type": "markdown",
   "id": "786b1570-2f95-4e78-b241-c754395c1eed",
   "metadata": {},
   "source": [
    "I will show you how to plot one wavelength, you job is to plot ALL the wavelengths on one plot for full-width at half-maximum."
   ]
  },
  {
   "cell_type": "code",
   "execution_count": 53,
   "id": "ffc8439d-3959-4d83-b0a1-3094e0335177",
   "metadata": {},
   "outputs": [
    {
     "name": "stdout",
     "output_type": "stream",
     "text": [
      "[0 8 1 2 3 4 5 6 7 9]\n"
     ]
    }
   ],
   "source": [
    "# For some reason the array is getting imported incorrectly, so I'm fixing that here\n",
    "sort_x_indices = np.argsort(x[:, 0])\n",
    "print(sort_indices)"
   ]
  },
  {
   "cell_type": "code",
   "execution_count": 54,
   "id": "b2643424-d5e7-437a-8ee7-ad927b9d772f",
   "metadata": {},
   "outputs": [
    {
     "name": "stdout",
     "output_type": "stream",
     "text": [
      "[[ 0.  0.  0.  0.  0.  0.  0.  0.  0.]\n",
      " [ 5.  5.  5.  5.  5.  5.  5.  5.  5.]\n",
      " [10. 10. 10. 10. 10. 10. 10. 10. 10.]\n",
      " [15. 15. 15. 15. 15. 15. 15. 15. 15.]\n",
      " [20. 20. 20. 20. 20. 20. 20. 20. 20.]\n",
      " [25. 25. 25. 25. 25. 25. 25. 25. 25.]\n",
      " [30. 30. 30. 30. 30. 30. 30. 30. 30.]\n",
      " [35. 35. 35. 35. 35. 35. 35. 35. 35.]\n",
      " [45. 45. 45. 45. 45. 45. 45. 45. 45.]\n",
      " [60. 60. 60. 60. 60. 60. 60. 60. 60.]]\n",
      "[[ 14.67052191  15.58114825  16.97312284  19.14741678  19.59749011\n",
      "   21.96386868  25.81912075  33.1381577   42.9115083 ]\n",
      " [ 15.97381378  16.5661739   17.70191175  19.74905248  19.82942114\n",
      "   21.96386868  25.81912075  33.1381577   42.9115083 ]\n",
      " [ 16.58710293  16.77721647  18.67449524  20.14016079  20.50948355\n",
      "   22.520004    26.17526338  33.1381577   42.9115083 ]\n",
      " [ 16.4527922   16.98563708  18.40186023  19.9455653   20.50948355\n",
      "   22.79298371  25.81912075  32.63220192  42.9115083 ]\n",
      " [ 16.24924466  17.39498827  17.84409806  19.9455653   20.28532946\n",
      "   22.520004    25.45799638  33.1381577   42.9115083 ]\n",
      " [ 96.4774197   30.93565862  19.07614323  20.71298098  21.16770862\n",
      "   23.06273255  26.17526338  34.12757366  44.87792959]\n",
      " [145.45211673 110.17535589  80.80822797  43.8944628   36.2875005\n",
      "   26.55302246  27.88783777  35.08910189  45.51452776]\n",
      " [174.52728486 154.4506575  132.71674378 116.30163178  79.77750109\n",
      "   53.91510633  48.11109093  36.93714454  44.87792959]\n",
      " [183.21659536 220.11106983 223.63111324 188.82820827 191.56245256\n",
      "  179.60992373 147.12871903 109.29961062  55.22512728]\n",
      " [183.21659536 230.7096033  275.66145409 292.27263238 288.83156019\n",
      "  238.84776636 178.51743306 150.97904579 166.88660179]]\n"
     ]
    }
   ],
   "source": [
    "# Now I am adjusting both to have the same indicies\n",
    "x_sorted = x[sort_indices]\n",
    "fwhm_g_sorted = fwhm_g[sort_indices]\n",
    "\n",
    "print(x_sorted)\n",
    "print(fwhm_g_sorted)"
   ]
  },
  {
   "cell_type": "code",
   "execution_count": 55,
   "id": "f62e40c1-2650-45b1-94cc-fa2ee6b7dc70",
   "metadata": {},
   "outputs": [
    {
     "data": {
      "image/png": "[encoded data removed]",
      "text/plain": [
       "<Figure size 800x600 with 1 Axes>"
      ]
     },
     "metadata": {},
     "output_type": "display_data"
    }
   ],
   "source": [
    "plt.figure(figsize=(8, 6))\n",
    "plt.plot(x_sorted[:, wavelength_index], fwhm_g_sorted[:, wavelength_index], color='blue', label='432 nm')\n",
    "plt.xlabel(\"Science Target Radius (arcseconds)\")\n",
    "plt.ylabel(\"Full-Width at Half-Max\")\n",
    "plt.title(\"PSF Performance over Field-of-View\")\n",
    "plt.legend()\n",
    "plt.show()"
   ]
  },
  {
   "cell_type": "code",
   "execution_count": null,
   "id": "cd5c556e-bef5-4e22-8cc0-e7c09c723944",
   "metadata": {},
   "outputs": [],
   "source": []
  }
 ],
 "metadata": {
  "kernelspec": {
   "display_name": "Python 3 (ipykernel)",
   "language": "python",
   "name": "python3"
  },
  "language_info": {
   "codemirror_mode": {
    "name": "ipython",
    "version": 3
   },
   "file_extension": ".py",
   "mimetype": "text/x-python",
   "name": "python",
   "nbconvert_exporter": "python",
   "pygments_lexer": "ipython3",
   "version": "3.11.5"
  }
 },
 "nbformat": 4,
 "nbformat_minor": 5
}
