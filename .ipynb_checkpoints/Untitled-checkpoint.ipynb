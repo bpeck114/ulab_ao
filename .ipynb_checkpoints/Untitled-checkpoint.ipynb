{
 "cells": [
  {
   "cell_type": "code",
   "execution_count": 1,
   "id": "82018dda-d400-42ae-a34c-4b19d04efbcf",
   "metadata": {
    "scrolled": true
   },
   "outputs": [
    {
     "name": "stdout",
     "output_type": "stream",
     "text": [
      "Requirement already satisfied: photutils in c:\\users\\trevorn\\anaconda3\\lib\\site-packages (2.0.2)\n",
      "Requirement already satisfied: numpy>=1.24 in c:\\users\\trevorn\\anaconda3\\lib\\site-packages (from photutils) (1.26.4)\n",
      "Requirement already satisfied: astropy>=5.3 in c:\\users\\trevorn\\anaconda3\\lib\\site-packages (from photutils) (6.1.0)\n",
      "Requirement already satisfied: scipy>=1.10 in c:\\users\\trevorn\\anaconda3\\lib\\site-packages (from photutils) (1.13.1)\n",
      "Requirement already satisfied: pyerfa>=2.0.1.1 in c:\\users\\trevorn\\anaconda3\\lib\\site-packages (from astropy>=5.3->photutils) (2.0.1.4)\n",
      "Requirement already satisfied: astropy-iers-data>=0.2024.4.29.0.28.48 in c:\\users\\trevorn\\anaconda3\\lib\\site-packages (from astropy>=5.3->photutils) (0.2024.6.3.0.31.14)\n",
      "Requirement already satisfied: PyYAML>=3.13 in c:\\users\\trevorn\\anaconda3\\lib\\site-packages (from astropy>=5.3->photutils) (6.0.1)\n",
      "Requirement already satisfied: packaging>=19.0 in c:\\users\\trevorn\\anaconda3\\lib\\site-packages (from astropy>=5.3->photutils) (23.2)\n",
      "Note: you may need to restart the kernel to use updated packages.\n"
     ]
    },
    {
     "ename": "ModuleNotFoundError",
     "evalue": "No module named 'paarti'",
     "output_type": "error",
     "traceback": [
      "\u001b[1;31m---------------------------------------------------------------------------\u001b[0m",
      "\u001b[1;31mModuleNotFoundError\u001b[0m                       Traceback (most recent call last)",
      "Cell \u001b[1;32mIn[1], line 5\u001b[0m\n\u001b[0;32m      3\u001b[0m \u001b[38;5;28;01mimport\u001b[39;00m \u001b[38;5;21;01mreadbin\u001b[39;00m\n\u001b[0;32m      4\u001b[0m sys\u001b[38;5;241m.\u001b[39mpath\u001b[38;5;241m.\u001b[39mappend(\u001b[38;5;124m'\u001b[39m\u001b[38;5;124mC/Users/TrevorN/code/paarti\u001b[39m\u001b[38;5;124m'\u001b[39m)\n\u001b[1;32m----> 5\u001b[0m \u001b[38;5;28;01mfrom\u001b[39;00m \u001b[38;5;21;01mpaarti\u001b[39;00m\u001b[38;5;21;01m.\u001b[39;00m\u001b[38;5;21;01mutils\u001b[39;00m \u001b[38;5;28;01mimport\u001b[39;00m maos_utils\n",
      "\u001b[1;31mModuleNotFoundError\u001b[0m: No module named 'paarti'"
     ]
    }
   ],
   "source": [
    "%pip install photutils\n",
    "import sys\n",
    "import readbin\n",
    "sys.path.append('C/Users/TrevorN/code/paarti')\n",
    "from paarti.utils import maos_utils"
   ]
  },
  {
   "cell_type": "code",
   "execution_count": 1,
   "id": "ca0c7f89-f61d-430c-8b98-328d2d9da7ab",
   "metadata": {},
   "outputs": [
    {
     "data": {
      "text/plain": [
       "['C:\\\\Users\\\\TrevorN\\\\Ulab\\\\ulab_ao',\n",
       " 'C:\\\\Users\\\\TrevorN\\\\anaconda3\\\\python312.zip',\n",
       " 'C:\\\\Users\\\\TrevorN\\\\anaconda3\\\\DLLs',\n",
       " 'C:\\\\Users\\\\TrevorN\\\\anaconda3\\\\Lib',\n",
       " 'C:\\\\Users\\\\TrevorN\\\\anaconda3',\n",
       " '',\n",
       " 'C:\\\\Users\\\\TrevorN\\\\anaconda3\\\\Lib\\\\site-packages',\n",
       " 'C:\\\\Users\\\\TrevorN\\\\anaconda3\\\\Lib\\\\site-packages\\\\win32',\n",
       " 'C:\\\\Users\\\\TrevorN\\\\anaconda3\\\\Lib\\\\site-packages\\\\win32\\\\lib',\n",
       " 'C:\\\\Users\\\\TrevorN\\\\anaconda3\\\\Lib\\\\site-packages\\\\Pythonwin']"
      ]
     },
     "execution_count": 1,
     "metadata": {},
     "output_type": "execute_result"
    }
   ],
   "source": [
    "import sys\n",
    "sys.path"
   ]
  },
  {
   "cell_type": "code",
   "execution_count": null,
   "id": "4c6c51c1-8e42-4b87-8f5c-63d18ae78596",
   "metadata": {},
   "outputs": [],
   "source": []
  },
  {
   "cell_type": "code",
   "execution_count": null,
   "id": "bf7a438c-e7dd-4496-9b1b-60f06f0da294",
   "metadata": {},
   "outputs": [],
   "source": []
  }
 ],
 "metadata": {
  "kernelspec": {
   "display_name": "Python 3 (ipykernel)",
   "language": "python",
   "name": "python3"
  },
  "language_info": {
   "codemirror_mode": {
    "name": "ipython",
    "version": 3
   },
   "file_extension": ".py",
   "mimetype": "text/x-python",
   "name": "python",
   "nbconvert_exporter": "python",
   "pygments_lexer": "ipython3",
   "version": "3.12.4"
  }
 },
 "nbformat": 4,
 "nbformat_minor": 5
}
