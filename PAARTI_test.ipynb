{
 "cells": [
  {
   "cell_type": "code",
   "execution_count": 19,
   "id": "fba9a8c0-9006-4d5f-95a6-15504f96628b",
   "metadata": {},
   "outputs": [
    {
     "ename": "ModuleNotFoundError",
     "evalue": "No module named 'paarti'",
     "output_type": "error",
     "traceback": [
      "\u001b[1;31m---------------------------------------------------------------------------\u001b[0m",
      "\u001b[1;31mModuleNotFoundError\u001b[0m                       Traceback (most recent call last)",
      "Cell \u001b[1;32mIn[19], line 1\u001b[0m\n\u001b[1;32m----> 1\u001b[0m \u001b[38;5;28;01mfrom\u001b[39;00m \u001b[38;5;21;01mpaarti\u001b[39;00m\u001b[38;5;21;01m.\u001b[39;00m\u001b[38;5;21;01mutils\u001b[39;00m \u001b[38;5;28;01mimport\u001b[39;00m maos_utils\n",
      "\u001b[1;31mModuleNotFoundError\u001b[0m: No module named 'paarti'"
     ]
    }
   ],
   "source": [
    "from paarti.utils import maos_utils"
   ]
  },
  {
   "cell_type": "code",
   "execution_count": 20,
   "id": "e7cec12e-8dc5-46ba-ad62-be5e82dde91b",
   "metadata": {},
   "outputs": [],
   "source": [
    "import sys"
   ]
  },
  {
   "cell_type": "code",
   "execution_count": 21,
   "id": "c26ab558-4916-427d-9c52-36b61800e21c",
   "metadata": {},
   "outputs": [
    {
     "data": {
      "text/plain": [
       "['C:\\\\Users\\\\riley\\\\ulab\\\\ulab_ao',\n",
       " 'C:\\\\Users\\\\riley\\\\anaconda3\\\\python311.zip',\n",
       " 'C:\\\\Users\\\\riley\\\\anaconda3\\\\DLLs',\n",
       " 'C:\\\\Users\\\\riley\\\\anaconda3\\\\Lib',\n",
       " 'C:\\\\Users\\\\riley\\\\anaconda3',\n",
       " '',\n",
       " 'C:\\\\Users\\\\riley\\\\anaconda3\\\\Lib\\\\site-packages',\n",
       " 'C:\\\\Users\\\\riley\\\\anaconda3\\\\Lib\\\\site-packages\\\\win32',\n",
       " 'C:\\\\Users\\\\riley\\\\anaconda3\\\\Lib\\\\site-packages\\\\win32\\\\lib',\n",
       " 'C:\\\\Users\\\\riley\\\\anaconda3\\\\Lib\\\\site-packages\\\\Pythonwin',\n",
       " 'c/Users/riley/code/paarti',\n",
       " 'c/Users/riley/code/paarti/']"
      ]
     },
     "execution_count": 21,
     "metadata": {},
     "output_type": "execute_result"
    }
   ],
   "source": [
    "sys.path"
   ]
  },
  {
   "cell_type": "code",
   "execution_count": 16,
   "id": "64d18d3c-9f9e-49d1-91eb-56ecf14937e8",
   "metadata": {},
   "outputs": [],
   "source": [
    "sys.path.append('c/Users/riley/code/paarti/')"
   ]
  },
  {
   "cell_type": "code",
   "execution_count": 18,
   "id": "929ec8ec-4e9d-42a1-88d6-94c9a42b1b4f",
   "metadata": {},
   "outputs": [
    {
     "data": {
      "text/plain": [
       "['C:\\\\Users\\\\riley\\\\ulab\\\\ulab_ao',\n",
       " 'C:\\\\Users\\\\riley\\\\anaconda3\\\\python311.zip',\n",
       " 'C:\\\\Users\\\\riley\\\\anaconda3\\\\DLLs',\n",
       " 'C:\\\\Users\\\\riley\\\\anaconda3\\\\Lib',\n",
       " 'C:\\\\Users\\\\riley\\\\anaconda3',\n",
       " '',\n",
       " 'C:\\\\Users\\\\riley\\\\anaconda3\\\\Lib\\\\site-packages',\n",
       " 'C:\\\\Users\\\\riley\\\\anaconda3\\\\Lib\\\\site-packages\\\\win32',\n",
       " 'C:\\\\Users\\\\riley\\\\anaconda3\\\\Lib\\\\site-packages\\\\win32\\\\lib',\n",
       " 'C:\\\\Users\\\\riley\\\\anaconda3\\\\Lib\\\\site-packages\\\\Pythonwin',\n",
       " 'c/Users/riley/code/paarti',\n",
       " 'c/Users/riley/code/paarti/']"
      ]
     },
     "execution_count": 18,
     "metadata": {},
     "output_type": "execute_result"
    }
   ],
   "source": [
    "sys.path"
   ]
  },
  {
   "cell_type": "code",
   "execution_count": null,
   "id": "866404a0-45ba-44bf-b4f8-f98bdf1c7f90",
   "metadata": {},
   "outputs": [],
   "source": []
  }
 ],
 "metadata": {
  "kernelspec": {
   "display_name": "Python 3 (ipykernel)",
   "language": "python",
   "name": "python3"
  },
  "language_info": {
   "codemirror_mode": {
    "name": "ipython",
    "version": 3
   },
   "file_extension": ".py",
   "mimetype": "text/x-python",
   "name": "python",
   "nbconvert_exporter": "python",
   "pygments_lexer": "ipython3",
   "version": "3.11.5"
  }
 },
 "nbformat": 4,
 "nbformat_minor": 5
}
