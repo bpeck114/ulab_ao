# IMPORT NECESSARY PACKAGES
import matplotlib.pyplot as plt
import pandas as pd
import numpy as np
import pylab as py
from astropy.io import fits
import time
import os
import importlib
from scipy.interpolate import interp2d


# Future PSF
with fits.open("psf/maos_onaxis.fits") as psfFITS:
    header1 = psfFITS[3].header
    data1 = psfFITS[3].data 

# Current PSF
with fits.open("psf/psf_scao.fits") as psfFITS:
    header2 = psfFITS[0].header
    data2 = psfFITS[0].data 

scale1 = header1['DP']
scale2 = header2['DP']
print(scale1, scale2)


dim_half1 = data1.shape[0] * scale1 / 2.0
dim_half2 = data2.shape[0] * scale2 / 2.0

# Rescale PSFs to have the same scale
old_xx1 = np.linspace(-dim_half1, dim_half1, data1.shape[0])
old_yy1 = np.linspace(-dim_half1, dim_half1, data1.shape[0])
old_xx2 = np.linspace(-dim_half2, dim_half2, data2.shape[0])
old_yy2 = np.linspace(-dim_half2, dim_half2, data2.shape[0])

psf1_interp = interp2d(old_xx1, old_yy1, data1, kind='cubic')

data1_new = psf1_interp(old_xx2, old_yy2)


# Plot the future PSF
plt.figure(figsize=(12, 6))
fig1 = plt.subplot(1, 2, 1)
plt.imshow(data1_new, cmap='gray')
plt.axis('equal')
plt.xlim(80, 180)
plt.ylim(80, 180)
plt.title("Future Keck Adaptive Optics", fontsize=20)
plt.axis("off")

# Plot the current psf
plt.subplot(1, 2, 2)
plt.imshow(data2, cmap='gray')
plt.axis('equal')
plt.xlim(80, 180)
plt.ylim(80, 180)
plt.title("Current Keck Adaptive Optics", fontsize=20)
plt.axis("off")



