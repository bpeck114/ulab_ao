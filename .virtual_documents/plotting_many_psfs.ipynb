


# IMPORT NECESSARY PACKAGES
from paarti.utils import maos_utils
import matplotlib.pyplot as plt
import numpy as np
import importlib
from scipy.interpolate import UnivariateSpline 
importlib.reload(maos_utils)


# CONSTANTS
seed = 1 # default
wavelength_index = 0 # 432 nm
psfs_directory = 'psfs_over_field/' # directory that contains all of out PSF files


# Calling the maos_utils function 
metrics = maos_utils.get_psf_metrics_over_field(directory='psfs_over_field/', seed=seed)



x, y, w, strehl, fwhm_g, fwhm_e, r_ee50, r_ee80 = np.array(metrics) # Getting all of the metrics out out our variable 
# and converting it to a numpy array

# x, x-coordinate in field-of-view
# y, y-coordinate in field-of-view
# strehl
# FWHM (gaussian)
# FWHM (empirical)
# 50% Encircled Energy
# 80% Encircled Energy





# Notice how it goes, 0 then 10 and puts 5 way later? We are gonna fix that below
print(x)
print(fwhm_g)





# For some reason the array is getting imported incorrectly, so I'm fixing that here
sort_indices = np.argsort(x[:, 0])
print(sort_indices)


# Now I am adjusting both to have the same indicies
x_sorted = x[sort_indices]
fwhm_g_sorted = fwhm_g[sort_indices]
print(x_sorted)
print(fwhm_g_sorted)


plt.figure(figsize=(8, 6))
plt.plot(x_sorted[:, wavelength_index], fwhm_g_sorted[:, wavelength_index], color='blue', label='432 nm')
plt.plot(x_sorted[:, wavelength_index], fwhm_g_sorted[:, wavelength_index + 1], color='orange', label='544 nm')
plt.plot(x_sorted[:, wavelength_index], fwhm_g_sorted[:, wavelength_index + 2], color='red', label='652 nm')
plt.plot(x_sorted[:, wavelength_index], fwhm_g_sorted[:, wavelength_index + 3], color='brown', label='810 nm')
plt.plot(x_sorted[:, wavelength_index], fwhm_g_sorted[:, wavelength_index + 4], color='green', label='877 nm')
plt.plot(x_sorted[:, wavelength_index], fwhm_g_sorted[:, wavelength_index + 5], color='purple', label='1020 nm')
plt.plot(x_sorted[:, wavelength_index], fwhm_g_sorted[:, wavelength_index + 6], color='teal', label='1248 nm')
plt.plot(x_sorted[:, wavelength_index], fwhm_g_sorted[:, wavelength_index + 7], color='black', label='1673 nm')
plt.plot(x_sorted[:, wavelength_index], fwhm_g_sorted[:, wavelength_index + 8], color='pink', label='2200 nm')
plt.xlabel("Science Target Radius (arcseconds)")
plt.ylabel("Full-Width at Half-Max")
plt.title("PSF Performance over Field-of-View")
plt.legend(bbox_to_anchor=(1.2, 1))

plt.show()


#uncomment whichever wl index you want to graph
from scipy.optimize import curve_fit
#1248nm

x_fit = np.linspace(0, 60, 120)
x = x_sorted[:, wavelength_index + 6]
y = fwhm_g_sorted[:, wavelength_index + 6]
#defines what the curve fit will fit into, chose logistic because the curve is always increasing
def logistic(x, L, k, x0):
    return (L / (1 + np.exp(-k * (x - x0)))) + y[0]

# the variable _, e is thrown away, it is a 'covarience matrix' which I do not understand, thankfully it is not needed

# we need params from the curve_fit function, p(0) is a guess of the parameters which the function corrects
params_first_half, _ = curve_fit(logistic, x, y, p0=[max(y), 0.7, 50])



#the * is a unpacking operater, runs the top model with the correct parameters to fit
y_fit = logistic(x_fit, *params_first_half)


plt.plot(x, y, 'o', color = 'green')
plt.plot(x_fit, y_fit, label='1248 nm', color = 'green')
plt.xlabel("x")
plt.ylabel("y")


#2200 nm

from scipy.optimize import curve_fit
x_fit = np.linspace(0, 60, 120)
x = x_sorted[:, wavelength_index + 8]
y = fwhm_g_sorted[:, wavelength_index + 8]
#defines what the curve fit will fit into, chose logistic because the curve is always increasing
def sixth(x, k, x0):
    return k * ((x + x0) ** 6) + y[0]

# the variable _, e is thrown away, it is a 'covarience matrix' which I do not understand, thankfully it is not needed
# we need params from the curve_fit function, p(0) is a guess of the parameters which the function corrects
params_first_half, _ = curve_fit(sixth, x, y)

y_fit = sixth(x_fit, *params_first_half)

plt.title(label = 'FWHM over arcseconds from origin, interpolated')
plt.plot(x, y, 'o', color = 'pink')
plt.plot(x_fit, y_fit, label='2200 nm', color = 'pink')


#810 nm

from scipy.optimize import curve_fit
x_fit = np.linspace(0, 60, 120)
x = x_sorted[:, wavelength_index + 3]
y = fwhm_g_sorted[:, wavelength_index + 3]
#defines what the curve fit will fit into, chose logistic because the curve is always increasing
def logistic(x, L, k, x0):
    return (L / (1 + np.exp(-k * (x - x0)))) + y[0]

# the variable _, e is thrown away, it is a 'covarience matrix' which I do not understand, thankfully it is not needed
# we need params from the curve_fit function, p(0) is a guess of the parameters which the function corrects
params_first_half, _ = curve_fit(logistic, x[:8], y[:8], p0=[max(y), 0.7, 30])
params_second_half, e = curve_fit(logistic, x[7:], y[7:], p0=[max(y), 0.3, 30])



#the * is a unpacking operater, runs the top model with the correct parameters to fit
y_fit = logistic(x_fit[:70], *params_first_half)
y_fit_2 = logistic(x_fit[70:], *params_second_half)

y_fit_append = np.append(y_fit, y_fit_2)


plt.plot(x, y, 'o', color = 'brown')
plt.plot(x_fit, y_fit_append, label='810 nm', color = 'brown')


#652 nm

from scipy.optimize import curve_fit
x_fit = np.linspace(0, 60, 120)
x = x_sorted[:, wavelength_index + 2]
y = fwhm_g_sorted[:, wavelength_index + 2]
#defines what the curve fit will fit into, chose logistic because the curve is always increasing
def logistic(x, L, k, x0):
    return (L / (1 + np.exp(-k * (x - x0)))) + y[0]

# the variable _, e is thrown away, it is a 'covarience matrix' which I do not understand, thankfully it is not needed
# we need params from the curve_fit function, p(0) is a guess of the parameters which the function corrects
params_first_half, _ = curve_fit(logistic, x[:8], y[:8], p0=[max(y), 0.7, 25])
params_second_half, e = curve_fit(logistic, x[7:], y[7:], p0=[max(y), 0.3, 25])


#the * is a unpacking operater, runs the top model with the correct parameters to fit
y_fit = logistic(x_fit[:60], *params_first_half)
y_fit_2 = logistic(x_fit[60:], *params_second_half)

y_fit_append = np.append(y_fit, y_fit_2)

plt.title(label = 'FWHM over arcseconds from origin, interpolated')
plt.plot(x, y, 'o', color = 'red')
plt.plot(x_fit, y_fit_append, label='652 nm', color = 'red')

#544 nm

from scipy.optimize import curve_fit
x_fit = np.linspace(0, 60, 120)
x = x_sorted[:, wavelength_index + 1]
y = fwhm_g_sorted[:, wavelength_index + 1]
#defines what the curve fit will fit into, chose logistic because the curve is always increasing
def logistic(x, L, k, x0):
    return (L / (1 + np.exp(-k * (x - x0)))) + y[0]

# the variable _, e is thrown away, it is a 'covarience matrix' which I do not understand, thankfully it is not needed
# we need params from the curve_fit function, p(0) is a guess of the parameters which the function corrects
params_first_half, _ = curve_fit(logistic, x[:7], y[:7], p0=[max(y), 0.7, 25])
params_second_half, e = curve_fit(logistic, x[6:], y[6:], p0=[max(y), 0.3, 25])

#the * is a unpacking operater, runs the top model with the correct parameters to fit
y_fit = logistic(x_fit[:60], *params_first_half)
y_fit_2 = logistic(x_fit[60:], *params_second_half)

y_fit_append = np.append(y_fit, y_fit_2)


plt.xlabel("x")
plt.ylabel("y")


plt.title(label = 'FWHM over arcseconds from origin, interpolated')
plt.plot(x, y, 'o', color = 'orange')
plt.plot(x_fit, y_fit_append, label='542 nm', color = 'orange')


#432 nm

from scipy.optimize import curve_fit
x_fit = np.linspace(0, 60, 120)
x = x_sorted[:, wavelength_index]
y = fwhm_g_sorted[:, wavelength_index]
#defines what the curve fit will fit into, chose logistic because the curve is always increasing
def logistic(x, L, k, x0):
    return (L / (1 + np.exp(-k * (x - x0)))) + y[0]

# the variable _, e is thrown away, it is a 'covarience matrix' which I do not understand, thankfully it is not needed
# we need params from the curve_fit function, p(0) is a guess of the parameters which the function corrects
params_first_half, _ = curve_fit(logistic, x[:7], y[:7], p0=[max(y), 0.7, 25])
params_second_half, e = curve_fit(logistic, x[5:], y[5:], p0=[max(y), 0.3, 25])


#the * is a unpacking operater, runs the top model with the correct parameters to fit
y_fit = logistic(x_fit[:50], *params_first_half)
y_fit_2 = logistic(x_fit[50:], *params_second_half)

y_fit_append = np.append(y_fit, y_fit_2)
plt.xlabel("Arcseconds")
plt.ylabel("FWHM")


plt.title(label = 'FWHM over arcseconds from origin, interpolated')
plt.plot(x, y, 'o', color = 'blue')
plt.plot(x_fit, y_fit_append, label='432 nm', color = 'blue')


plt.legend()
plt.show()


#creates color line based on the last line graphed above
import matplotlib.colors as mcolors
import matplotlib.cm as cm

color_x = x_fit
color_y = np.append(y_fit, y_fit_2)

#normalizes the color map, i.e. changes the bottom of the colormap to fit the limits of fwhm, keep constant between wavelengths for comparison
norm = mcolors.Normalize(vmin= -20, vmax= 300)

colormap = cm.plasma  # You can also use 'plasma', 'cividis', 'jet', etc.

fig, ax = plt.subplots(figsize=(7, 6))


#Separates the line into small line segments with with value x[i] to x[i+1] and sets y to 0  
for i in range(len(color_x) - 1):
    color = colormap(norm(color_y[i]))
    ax.plot([color_x[i], color_x[i+1]], [0, 0], color=color, linewidth=5)

ax.plot([-60, 0], [0, 0], linewidth=0)

sm = plt.cm.ScalarMappable(cmap=colormap, norm=norm)
plt.colorbar(sm, label='Color Key(FWHM)', ax = ax)

#sets lim to make 60 x 60 arcsecond view
ax.set_ylim(-60, 60)
ax.set_xlim(-60, 60)

ax.set_aspect('equal', 'box')

plt.xlabel('Arcseconds')
plt.title('Colormap 432nm 0-60 arcseconds representing FWHM')
plt.show()


#create polar figure based on previous line
fig, ax = plt.subplots(subplot_kw={'projection': 'polar'})


# Iterate over angles and radial segments
for t in range(360):  # Angles in degrees
    angle = t * 2 * np.pi / 360  # Convert to radians
    for i in range(len(color_x) - 1):
        color = colormap(norm(color_y[i]))  # Get color from colormap
        ax.plot([angle, angle], [color_x[i], color_x[i+1]], color=color, linewidth=3)

plt.axis('off')

#creating cartesian grid on top
ax_cartesian = fig.add_subplot(111, frame_on=False)  # Add a new axes on top with no frame
ax_cartesian.grid(True, linestyle='--', color='gray')  # Enable Cartesian grid
ax_cartesian.set_xticks(np.linspace(-83.72, 83.72, 9))  # NOT CORRECT TO 60 I dunno how to fit it correctly
ax_cartesian.set_yticks(np.linspace(-62.8, 62.8, 7))


plt.title('Colormap ???nm 0-60 arcseconds representing FWHM')
plt.show()

fig, ax = plt.subplots(figsize = (1,5))
sm = plt.cm.ScalarMappable(cmap=colormap, norm=norm)
sm.set_array([])
fig.colorbar(sm, ax=ax, label='Color Key (FWHM)', pad=0.1)
plt.axis('off')
plt.show()
