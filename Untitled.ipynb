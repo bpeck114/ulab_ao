{
 "cells": [
  {
   "cell_type": "code",
   "execution_count": null,
   "id": "82018dda-d400-42ae-a34c-4b19d04efbcf",
   "metadata": {},
   "outputs": [],
   "source": [
    "%pip install photutils\n",
    "import sys\n",
    "import readbin\n",
    "sys.path.append('C/Users/TrevorN/code/paarti')\n",
    "import paarti"
   ]
  },
  {
   "cell_type": "code",
   "execution_count": 1,
   "id": "ca0c7f89-f61d-430c-8b98-328d2d9da7ab",
   "metadata": {},
   "outputs": [
    {
     "data": {
      "text/plain": [
       "['C:\\\\Users\\\\TrevorN\\\\Ulab\\\\ulab_ao',\n",
       " 'C:\\\\Users\\\\TrevorN\\\\anaconda3\\\\python312.zip',\n",
       " 'C:\\\\Users\\\\TrevorN\\\\anaconda3\\\\DLLs',\n",
       " 'C:\\\\Users\\\\TrevorN\\\\anaconda3\\\\Lib',\n",
       " 'C:\\\\Users\\\\TrevorN\\\\anaconda3',\n",
       " '',\n",
       " 'C:\\\\Users\\\\TrevorN\\\\anaconda3\\\\Lib\\\\site-packages',\n",
       " 'C:\\\\Users\\\\TrevorN\\\\anaconda3\\\\Lib\\\\site-packages\\\\win32',\n",
       " 'C:\\\\Users\\\\TrevorN\\\\anaconda3\\\\Lib\\\\site-packages\\\\win32\\\\lib',\n",
       " 'C:\\\\Users\\\\TrevorN\\\\anaconda3\\\\Lib\\\\site-packages\\\\Pythonwin']"
      ]
     },
     "execution_count": 1,
     "metadata": {},
     "output_type": "execute_result"
    }
   ],
   "source": [
    "import sys\n",
    "sys.path"
   ]
  },
  {
   "cell_type": "code",
   "execution_count": 7,
   "id": "4c6c51c1-8e42-4b87-8f5c-63d18ae78596",
   "metadata": {},
   "outputs": [],
   "source": [
    "from photutils.aperture import CircularAperture, CircularAnnulus, aperture_photometry\n"
   ]
  },
  {
   "cell_type": "code",
   "execution_count": null,
   "id": "bf7a438c-e7dd-4496-9b1b-60f06f0da294",
   "metadata": {},
   "outputs": [],
   "source": []
  }
 ],
 "metadata": {
  "kernelspec": {
   "display_name": "Python 3 (ipykernel)",
   "language": "python",
   "name": "python3"
  },
  "language_info": {
   "codemirror_mode": {
    "name": "ipython",
    "version": 3
   },
   "file_extension": ".py",
   "mimetype": "text/x-python",
   "name": "python",
   "nbconvert_exporter": "python",
   "pygments_lexer": "ipython3",
   "version": "3.12.4"
  }
 },
 "nbformat": 4,
 "nbformat_minor": 5
}
