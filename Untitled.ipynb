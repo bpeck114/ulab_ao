{
 "cells": [
  {
   "cell_type": "code",
   "execution_count": 5,
   "id": "82018dda-d400-42ae-a34c-4b19d04efbcf",
   "metadata": {
    "scrolled": true
   },
   "outputs": [
    {
     "ename": "ModuleNotFoundError",
     "evalue": "No module named 'paarti'",
     "output_type": "error",
     "traceback": [
      "\u001b[1;31m---------------------------------------------------------------------------\u001b[0m",
      "\u001b[1;31mModuleNotFoundError\u001b[0m                       Traceback (most recent call last)",
      "Cell \u001b[1;32mIn[5], line 1\u001b[0m\n\u001b[1;32m----> 1\u001b[0m \u001b[38;5;28;01mfrom\u001b[39;00m \u001b[38;5;21;01mpaarti\u001b[39;00m\u001b[38;5;21;01m.\u001b[39;00m\u001b[38;5;21;01mutils\u001b[39;00m \u001b[38;5;28;01mimport\u001b[39;00m maos_utils\n",
      "\u001b[1;31mModuleNotFoundError\u001b[0m: No module named 'paarti'"
     ]
    }
   ],
   "source": [
    "from paarti.utils import maos_utils"
   ]
  },
  {
   "cell_type": "code",
   "execution_count": 2,
   "id": "ca0c7f89-f61d-430c-8b98-328d2d9da7ab",
   "metadata": {},
   "outputs": [
    {
     "data": {
      "text/plain": [
       "['C:\\\\Users\\\\TrevorN\\\\Ulab\\\\ulab_ao',\n",
       " 'C:\\\\Users\\\\TrevorN\\\\anaconda3\\\\python312.zip',\n",
       " 'C:\\\\Users\\\\TrevorN\\\\anaconda3\\\\DLLs',\n",
       " 'C:\\\\Users\\\\TrevorN\\\\anaconda3\\\\Lib',\n",
       " 'C:\\\\Users\\\\TrevorN\\\\anaconda3',\n",
       " '',\n",
       " 'C:\\\\Users\\\\TrevorN\\\\anaconda3\\\\Lib\\\\site-packages',\n",
       " 'C:\\\\Users\\\\TrevorN\\\\anaconda3\\\\Lib\\\\site-packages\\\\win32',\n",
       " 'C:\\\\Users\\\\TrevorN\\\\anaconda3\\\\Lib\\\\site-packages\\\\win32\\\\lib',\n",
       " 'C:\\\\Users\\\\TrevorN\\\\anaconda3\\\\Lib\\\\site-packages\\\\Pythonwin']"
      ]
     },
     "execution_count": 2,
     "metadata": {},
     "output_type": "execute_result"
    }
   ],
   "source": [
    "import sys\n",
    "sys.path"
   ]
  },
  {
   "cell_type": "code",
   "execution_count": null,
   "id": "4c6c51c1-8e42-4b87-8f5c-63d18ae78596",
   "metadata": {},
   "outputs": [],
   "source": []
  }
 ],
 "metadata": {
  "kernelspec": {
   "display_name": "Python 3 (ipykernel)",
   "language": "python",
   "name": "python3"
  },
  "language_info": {
   "codemirror_mode": {
    "name": "ipython",
    "version": 3
   },
   "file_extension": ".py",
   "mimetype": "text/x-python",
   "name": "python",
   "nbconvert_exporter": "python",
   "pygments_lexer": "ipython3",
   "version": "3.12.4"
  }
 },
 "nbformat": 4,
 "nbformat_minor": 5
}
