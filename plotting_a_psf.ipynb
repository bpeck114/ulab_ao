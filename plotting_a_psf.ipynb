{
 "cells": [
  {
   "cell_type": "code",
   "execution_count": null,
   "id": "6599c03e-808d-4243-b69f-fdef57c5e1bd",
   "metadata": {},
   "outputs": [],
   "source": [
    "# IMPORT NECESSARY PACKAGES\n",
    "import matplotlib.pyplot as plt\n",
    "import pandas as pd\n",
    "import numpy as np\n",
    "import pylab as py\n",
    "from astropy.io import fits\n",
    "import time\n",
    "import os\n",
    "import importlib\n",
    "from scipy.interpolate import interp2d"
   ]
  },
  {
   "cell_type": "code",
   "execution_count": null,
   "id": "df644595-4814-4438-9e05-d4d6ce381764",
   "metadata": {},
   "outputs": [],
   "source": [
    "# Future PSF\n",
    "with fits.open(\"psf/maos_onaxis.fits\") as psfFITS:\n",
    "    header1 = psfFITS[3].header\n",
    "    data1 = psfFITS[3].data \n",
    "\n",
    "# Current PSF\n",
    "with fits.open(\"psf/psf_scao.fits\") as psfFITS:\n",
    "    header2 = psfFITS[0].header\n",
    "    data2 = psfFITS[0].data \n",
    "\n",
    "scale1 = header1['DP']\n",
    "scale2 = header2['DP']\n",
    "print(scale1, scale2)\n",
    "\n",
    "\n",
    "dim_half1 = data1.shape[0] * scale1 / 2.0\n",
    "dim_half2 = data2.shape[0] * scale2 / 2.0\n",
    "\n",
    "# Rescale PSFs to have the same scale\n",
    "old_xx1 = np.linspace(-dim_half1, dim_half1, data1.shape[0])\n",
    "old_yy1 = np.linspace(-dim_half1, dim_half1, data1.shape[0])\n",
    "old_xx2 = np.linspace(-dim_half2, dim_half2, data2.shape[0])\n",
    "old_yy2 = np.linspace(-dim_half2, dim_half2, data2.shape[0])\n",
    "\n",
    "psf1_interp = interp2d(old_xx1, old_yy1, data1, kind='cubic')\n",
    "\n",
    "data1_new = psf1_interp(old_xx2, old_yy2)"
   ]
  },
  {
   "cell_type": "code",
   "execution_count": null,
   "id": "ef0e042c-8347-46ff-b9d4-7844607f412c",
   "metadata": {},
   "outputs": [],
   "source": [
    "# Plot the future PSF\n",
    "plt.figure(figsize=(12, 6))\n",
    "fig1 = plt.subplot(1, 2, 1)\n",
    "plt.imshow(data1_new, cmap='gray')\n",
    "plt.axis('equal')\n",
    "plt.xlim(80, 180)\n",
    "plt.ylim(80, 180)\n",
    "plt.title(\"Future Keck Adaptive Optics\", fontsize=20)\n",
    "plt.axis(\"off\")\n",
    "\n",
    "# Plot the current psf\n",
    "plt.subplot(1, 2, 2)\n",
    "plt.imshow(data2, cmap='gray')\n",
    "plt.axis('equal')\n",
    "plt.xlim(80, 180)\n",
    "plt.ylim(80, 180)\n",
    "plt.title(\"Current Keck Adaptive Optics\", fontsize=20)\n",
    "plt.axis(\"off\")"
   ]
  },
  {
   "cell_type": "code",
   "execution_count": null,
   "id": "6de03ed5-c67a-4a60-9983-f29e7428fc8c",
   "metadata": {},
   "outputs": [],
   "source": []
  }
 ],
 "metadata": {
  "kernelspec": {
   "display_name": "Python 3 (ipykernel)",
   "language": "python",
   "name": "python3"
  },
  "language_info": {
   "codemirror_mode": {
    "name": "ipython",
    "version": 3
   },
   "file_extension": ".py",
   "mimetype": "text/x-python",
   "name": "python",
   "nbconvert_exporter": "python",
   "pygments_lexer": "ipython3",
   "version": "3.11.0"
  }
 },
 "nbformat": 4,
 "nbformat_minor": 5
}
